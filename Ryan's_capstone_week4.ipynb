{
 "cells": [
  {
   "cell_type": "markdown",
   "metadata": {},
   "source": [
    "What type of new restaurants should be opened based on businesses nearby as well as the cuisines of other restaurants?\n",
    "\n",
    "Introduction/Business Problem\n",
    "\n",
    "Large cities often have many restaurants due to the density of people. We are looking at the feasibility of starting a new restaurant. We will look at a metropolitan area, and analyze the neighborhoods to determine if a new restaurant will have sufficient clientele. To determine clientele, we will analyze specific areas and determine cuisine preference over an area. We will determine which restaurant to start based on scarcity of specific cuisines in different areas of our city. Our target meal will be lunch, so we will have to analyze businesses in the area as well. \n",
    "\n",
    "Data \n",
    "\n",
    "Data needed will be businesses and their coordinates, and restaurant types and their coordinates. Data will be analyzed to determine which new restaurants should be placed in an area based on scarcity of cuisine in that area. \n"
   ]
  },
  {
   "cell_type": "code",
   "execution_count": null,
   "metadata": {},
   "outputs": [],
   "source": []
  }
 ],
 "metadata": {
  "kernelspec": {
   "display_name": "Python",
   "language": "python",
   "name": "conda-env-python-py"
  },
  "language_info": {
   "codemirror_mode": {
    "name": "ipython",
    "version": 3
   },
   "file_extension": ".py",
   "mimetype": "text/x-python",
   "name": "python",
   "nbconvert_exporter": "python",
   "pygments_lexer": "ipython3",
   "version": "3.6.10"
  }
 },
 "nbformat": 4,
 "nbformat_minor": 4
}
